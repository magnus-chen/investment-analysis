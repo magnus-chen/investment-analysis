{
 "cells": [
  {
   "cell_type": "markdown",
   "metadata": {},
   "source": [
    "# Gold and Silver Ratio\n",
    "\n",
    "### Overview\n",
    "In this notebook, I will try to replicate the analysis performed by Belangp on his precious metal trading/stacking strategy based on the gold and silver ratio.\n",
    "\n",
    "The actual code development hasn't been linear. I have gone back and forth to tweak some parameters to achieve the best alignment results.\n",
    "\n",
    "### Reference\n",
    "- GSR Valuation Update Time to Favor Silver (https://www.youtube.com/watch?v=C2EGjhcW-a0)"
   ]
  },
  {
   "cell_type": "code",
   "execution_count": 1,
   "metadata": {
    "code_folding": []
   },
   "outputs": [],
   "source": [
    "# Import libraries\n",
    "import pandas as pd\n",
    "import quandl\n",
    "import math\n",
    "import numpy as np\n",
    "import scipy.stats\n",
    "import statsmodels.api as sm\n",
    "from matplotlib import pyplot as plt\n",
    "from scipy.stats import linregress\n",
    "import os\n",
    "%matplotlib notebook\n",
    "\n",
    "# Set up folder directories\n",
    "input_dir = \"01_Raw_Data/\"\n",
    "procs_dir = \"02_Processed_Data/\"\n",
    "output_dir = \"03_Output_Data/\""
   ]
  },
  {
   "cell_type": "code",
   "execution_count": 2,
   "metadata": {},
   "outputs": [],
   "source": [
    "start_date = \"1900-01-01\"\n",
    "end_date = \"2020-08-25\""
   ]
  },
  {
   "cell_type": "markdown",
   "metadata": {},
   "source": [
    "## 1. Prepare Price Data from Quandl\n",
    "We are gonna leverage Quandl's free precious metal data for this analysis. Only run this module for periodic refresh as data are saved in the `\\02_Processed_Data` folder.\n",
    "\n",
    "#### Download Price Data for LBMA Gold\n",
    "Uncomment the codes below to refresh the data."
   ]
  },
  {
   "cell_type": "code",
   "execution_count": 14,
   "metadata": {},
   "outputs": [],
   "source": [
    "# lbma_gold_df = quandl.get(\"LBMA/GOLD\", authtoken=\"mph6fTrjas2wX3sBdYQn\", start_date=start_date, end_date=end_date)\n",
    "# lbma_gold_df['LBMA_Gold_USD'] = (lbma_gold_df['USD (AM)'] + lbma_gold_df['USD (PM)']) *0.5\n",
    "# lbma_gold_df.index = pd.to_datetime(lbma_gold_df.index)\n",
    "# pd.DataFrame(lbma_gold_df['LBMA_Gold_USD']).to_csv(procs_dir + 'lbma_gold_usd.csv')"
   ]
  },
  {
   "cell_type": "markdown",
   "metadata": {},
   "source": [
    "#### Download Price Data for LBMA Silver\n",
    "Uncomment the codes below to refresh the data."
   ]
  },
  {
   "cell_type": "code",
   "execution_count": 13,
   "metadata": {},
   "outputs": [],
   "source": [
    "# lbma_silver_df = quandl.get(\"LBMA/SILVER\", authtoken=\"mph6fTrjas2wX3sBdYQn\", start_date=start_date, end_date=end_date)\n",
    "# lbma_silver_df.index = pd.to_datetime(lbma_silver_df.index)\n",
    "# lbma_silver_df['LBMA_Silver_USD'] = lbma_silver_df['USD']\n",
    "# pd.DataFrame(lbma_silver_df['LBMA_Silver_USD']).to_csv(procs_dir + 'lbma_silver_usd.csv')"
   ]
  },
  {
   "cell_type": "markdown",
   "metadata": {},
   "source": [
    "#### Preprocess G&S Data\n",
    "I append the downloaded gold and silver price data so that they're in the same dataframe."
   ]
  },
  {
   "cell_type": "code",
   "execution_count": 5,
   "metadata": {},
   "outputs": [],
   "source": [
    "# Read the downloaded data\n",
    "lbma_gold_usd = pd.read_csv(procs_dir + 'lbma_gold_usd.csv', index_col=0, parse_dates=True)\n",
    "lbma_silver_usd = pd.read_csv(procs_dir + 'lbma_silver_usd.csv', index_col=0, parse_dates=True)\n",
    "\n",
    "# Resample to month-end (daily/weekly data will likely be too noisy)\n",
    "lbma_gold_usd = lbma_gold_usd.resample('M').last()\n",
    "lbma_silver_usd = lbma_silver_usd.resample('M').last()\n",
    "\n",
    "# Append the gold and silver data\n",
    "gs_comb_df = lbma_gold_usd.merge(lbma_silver_usd, how='outer', left_index=True, right_index=True)\n",
    "gs_comb_df = gs_comb_df.dropna(how='any')\n",
    "\n",
    "# Calculate Gold and Silver Ratio (GSR)\n",
    "gs_comb_df['GSR'] = gs_comb_df['LBMA_Gold_USD'].divide(gs_comb_df['LBMA_Silver_USD'])"
   ]
  },
  {
   "cell_type": "code",
   "execution_count": 6,
   "metadata": {},
   "outputs": [
    {
     "data": {
      "text/html": [
       "<div>\n",
       "<style scoped>\n",
       "    .dataframe tbody tr th:only-of-type {\n",
       "        vertical-align: middle;\n",
       "    }\n",
       "\n",
       "    .dataframe tbody tr th {\n",
       "        vertical-align: top;\n",
       "    }\n",
       "\n",
       "    .dataframe thead th {\n",
       "        text-align: right;\n",
       "    }\n",
       "</style>\n",
       "<table border=\"1\" class=\"dataframe\">\n",
       "  <thead>\n",
       "    <tr style=\"text-align: right;\">\n",
       "      <th></th>\n",
       "      <th>LBMA_Gold_USD</th>\n",
       "      <th>LBMA_Silver_USD</th>\n",
       "      <th>GSR</th>\n",
       "    </tr>\n",
       "    <tr>\n",
       "      <th>Date</th>\n",
       "      <th></th>\n",
       "      <th></th>\n",
       "      <th></th>\n",
       "    </tr>\n",
       "  </thead>\n",
       "  <tbody>\n",
       "    <tr>\n",
       "      <th>1968-04-30</th>\n",
       "      <td>39.100</td>\n",
       "      <td>2.397</td>\n",
       "      <td>16.312057</td>\n",
       "    </tr>\n",
       "    <tr>\n",
       "      <th>1968-05-31</th>\n",
       "      <td>41.975</td>\n",
       "      <td>2.483</td>\n",
       "      <td>16.904954</td>\n",
       "    </tr>\n",
       "    <tr>\n",
       "      <th>1968-06-30</th>\n",
       "      <td>40.925</td>\n",
       "      <td>2.502</td>\n",
       "      <td>16.356914</td>\n",
       "    </tr>\n",
       "    <tr>\n",
       "      <th>1968-07-31</th>\n",
       "      <td>38.875</td>\n",
       "      <td>2.285</td>\n",
       "      <td>17.013129</td>\n",
       "    </tr>\n",
       "    <tr>\n",
       "      <th>1968-08-31</th>\n",
       "      <td>39.825</td>\n",
       "      <td>2.239</td>\n",
       "      <td>17.786958</td>\n",
       "    </tr>\n",
       "  </tbody>\n",
       "</table>\n",
       "</div>"
      ],
      "text/plain": [
       "            LBMA_Gold_USD  LBMA_Silver_USD        GSR\n",
       "Date                                                 \n",
       "1968-04-30         39.100            2.397  16.312057\n",
       "1968-05-31         41.975            2.483  16.904954\n",
       "1968-06-30         40.925            2.502  16.356914\n",
       "1968-07-31         38.875            2.285  17.013129\n",
       "1968-08-31         39.825            2.239  17.786958"
      ]
     },
     "execution_count": 6,
     "metadata": {},
     "output_type": "execute_result"
    }
   ],
   "source": [
    "gs_comb_df.head()"
   ]
  },
  {
   "cell_type": "markdown",
   "metadata": {},
   "source": [
    "Good stuff. We have data available from 30/04/1968 for both gold and silver."
   ]
  },
  {
   "cell_type": "markdown",
   "metadata": {},
   "source": [
    "# 2. Calculate Periodic Return\n",
    "For this analysis, we look at the horizon of every 10 years. For a rotational window of 10 years, we are going to do the following:\n",
    "- Calculate return (both percentage and log) individually for gold and silver\n",
    "- Calculate the return of silver relative to gold\n",
    "- Append the GSR as at the **beginning** of each observation window\n",
    "\n",
    "Since the data has been resampled to monthly, we will calculate the return every 120 months (i.e. 10 years)."
   ]
  },
  {
   "cell_type": "code",
   "execution_count": 7,
   "metadata": {},
   "outputs": [],
   "source": [
    "# Calculate individual percentage return\n",
    "gs_return_df = gs_comb_df[['LBMA_Gold_USD', 'LBMA_Silver_USD']].pct_change(periods=120).dropna()\n",
    "gs_return_df.columns = ['return_gold', 'return_silver']\n",
    "\n",
    "# Calculate silver return relative to gold \n",
    "gs_return_df['return_rel'] = gs_return_df['return_silver'] - gs_return_df['return_gold']\n",
    "\n",
    "# Calculate individual log return\n",
    "gs_log_return_df = np.log(gs_comb_df[['LBMA_Gold_USD', 'LBMA_Silver_USD']]).diff(periods=120).dropna()\n",
    "gs_log_return_df.columns = ['log_return_gold', 'log_return_silver']\n",
    "\n",
    "# Calculate silver return relative to gold \n",
    "gs_log_return_df['log_return_rel'] = gs_log_return_df['log_return_silver'] - gs_log_return_df['log_return_gold']"
   ]
  },
  {
   "cell_type": "code",
   "execution_count": 8,
   "metadata": {},
   "outputs": [
    {
     "data": {
      "text/html": [
       "<div>\n",
       "<style scoped>\n",
       "    .dataframe tbody tr th:only-of-type {\n",
       "        vertical-align: middle;\n",
       "    }\n",
       "\n",
       "    .dataframe tbody tr th {\n",
       "        vertical-align: top;\n",
       "    }\n",
       "\n",
       "    .dataframe thead th {\n",
       "        text-align: right;\n",
       "    }\n",
       "</style>\n",
       "<table border=\"1\" class=\"dataframe\">\n",
       "  <thead>\n",
       "    <tr style=\"text-align: right;\">\n",
       "      <th></th>\n",
       "      <th>log_return_gold</th>\n",
       "      <th>log_return_silver</th>\n",
       "      <th>log_return_rel</th>\n",
       "    </tr>\n",
       "    <tr>\n",
       "      <th>Date</th>\n",
       "      <th></th>\n",
       "      <th></th>\n",
       "      <th></th>\n",
       "    </tr>\n",
       "  </thead>\n",
       "  <tbody>\n",
       "    <tr>\n",
       "      <th>1978-04-30</th>\n",
       "      <td>1.472173</td>\n",
       "      <td>0.734820</td>\n",
       "      <td>-0.737353</td>\n",
       "    </tr>\n",
       "    <tr>\n",
       "      <th>1978-05-31</th>\n",
       "      <td>1.480711</td>\n",
       "      <td>0.789080</td>\n",
       "      <td>-0.691631</td>\n",
       "    </tr>\n",
       "    <tr>\n",
       "      <th>1978-06-30</th>\n",
       "      <td>1.498428</td>\n",
       "      <td>0.746267</td>\n",
       "      <td>-0.752161</td>\n",
       "    </tr>\n",
       "    <tr>\n",
       "      <th>1978-07-31</th>\n",
       "      <td>1.635839</td>\n",
       "      <td>0.891567</td>\n",
       "      <td>-0.744271</td>\n",
       "    </tr>\n",
       "    <tr>\n",
       "      <th>1978-08-31</th>\n",
       "      <td>1.653043</td>\n",
       "      <td>0.904339</td>\n",
       "      <td>-0.748704</td>\n",
       "    </tr>\n",
       "  </tbody>\n",
       "</table>\n",
       "</div>"
      ],
      "text/plain": [
       "            log_return_gold  log_return_silver  log_return_rel\n",
       "Date                                                          \n",
       "1978-04-30         1.472173           0.734820       -0.737353\n",
       "1978-05-31         1.480711           0.789080       -0.691631\n",
       "1978-06-30         1.498428           0.746267       -0.752161\n",
       "1978-07-31         1.635839           0.891567       -0.744271\n",
       "1978-08-31         1.653043           0.904339       -0.748704"
      ]
     },
     "execution_count": 8,
     "metadata": {},
     "output_type": "execute_result"
    }
   ],
   "source": [
    "gs_return_df.head()\n",
    "gs_log_return_df.head()"
   ]
  },
  {
   "cell_type": "markdown",
   "metadata": {
    "scrolled": true
   },
   "source": [
    "Now for each 10 years' return of gold and silver, we need to append the GSR at the beginning of each observation window. Take, for instance, a 10-year observation window from **30/04/1968** to **30/04/1978** (inclusive):\n",
    "- Gold YoY return = 335.87%, silver YoY return = 108.51%, relative YoY return = -227.36%\n",
    "- GSR = 16.31 as at 30/04/1968\n",
    "\n",
    "Note that the GSR on 30/04/1968, instead of 30/04/1978, is used here."
   ]
  },
  {
   "cell_type": "code",
   "execution_count": 9,
   "metadata": {},
   "outputs": [
    {
     "data": {
      "text/html": [
       "<div>\n",
       "<style scoped>\n",
       "    .dataframe tbody tr th:only-of-type {\n",
       "        vertical-align: middle;\n",
       "    }\n",
       "\n",
       "    .dataframe tbody tr th {\n",
       "        vertical-align: top;\n",
       "    }\n",
       "\n",
       "    .dataframe thead th {\n",
       "        text-align: right;\n",
       "    }\n",
       "</style>\n",
       "<table border=\"1\" class=\"dataframe\">\n",
       "  <thead>\n",
       "    <tr style=\"text-align: right;\">\n",
       "      <th></th>\n",
       "      <th>log_return_gold</th>\n",
       "      <th>log_return_silver</th>\n",
       "      <th>log_return_rel</th>\n",
       "      <th>GSR_start</th>\n",
       "    </tr>\n",
       "    <tr>\n",
       "      <th>Date</th>\n",
       "      <th></th>\n",
       "      <th></th>\n",
       "      <th></th>\n",
       "      <th></th>\n",
       "    </tr>\n",
       "  </thead>\n",
       "  <tbody>\n",
       "    <tr>\n",
       "      <th>1978-04-30</th>\n",
       "      <td>1.472173</td>\n",
       "      <td>0.734820</td>\n",
       "      <td>-0.737353</td>\n",
       "      <td>16.312057</td>\n",
       "    </tr>\n",
       "    <tr>\n",
       "      <th>1978-05-31</th>\n",
       "      <td>1.480711</td>\n",
       "      <td>0.789080</td>\n",
       "      <td>-0.691631</td>\n",
       "      <td>16.904954</td>\n",
       "    </tr>\n",
       "    <tr>\n",
       "      <th>1978-06-30</th>\n",
       "      <td>1.498428</td>\n",
       "      <td>0.746267</td>\n",
       "      <td>-0.752161</td>\n",
       "      <td>16.356914</td>\n",
       "    </tr>\n",
       "    <tr>\n",
       "      <th>1978-07-31</th>\n",
       "      <td>1.635839</td>\n",
       "      <td>0.891567</td>\n",
       "      <td>-0.744271</td>\n",
       "      <td>17.013129</td>\n",
       "    </tr>\n",
       "    <tr>\n",
       "      <th>1978-08-31</th>\n",
       "      <td>1.653043</td>\n",
       "      <td>0.904339</td>\n",
       "      <td>-0.748704</td>\n",
       "      <td>17.786958</td>\n",
       "    </tr>\n",
       "  </tbody>\n",
       "</table>\n",
       "</div>"
      ],
      "text/plain": [
       "            log_return_gold  log_return_silver  log_return_rel  GSR_start\n",
       "Date                                                                     \n",
       "1978-04-30         1.472173           0.734820       -0.737353  16.312057\n",
       "1978-05-31         1.480711           0.789080       -0.691631  16.904954\n",
       "1978-06-30         1.498428           0.746267       -0.752161  16.356914\n",
       "1978-07-31         1.635839           0.891567       -0.744271  17.013129\n",
       "1978-08-31         1.653043           0.904339       -0.748704  17.786958"
      ]
     },
     "execution_count": 9,
     "metadata": {},
     "output_type": "execute_result"
    }
   ],
   "source": [
    "# Shift the column by 120 months backward, so that the GSR at the beginning of the 10-year observation window\n",
    "# will be mapped to the observation window end date\n",
    "gs_return_df['GSR_start'] = gs_comb_df['GSR'].shift(periods=120)\n",
    "gs_return_df.head()\n",
    "\n",
    "gs_log_return_df['GSR_start'] = gs_comb_df['GSR'].shift(periods=120)\n",
    "gs_log_return_df.head()"
   ]
  },
  {
   "cell_type": "markdown",
   "metadata": {},
   "source": [
    "# 3. Perform Regression Analysis\n",
    "Our data is now prepared and handsome, so we may proceed with our actual analysis.\n",
    "## 3.1. Initial Attempt\n",
    "#### Using Percentage Return"
   ]
  },
  {
   "cell_type": "code",
   "execution_count": 145,
   "metadata": {},
   "outputs": [
    {
     "name": "stdout",
     "output_type": "stream",
     "text": [
      "                            OLS Regression Results                            \n",
      "==============================================================================\n",
      "Dep. Variable:             return_rel   R-squared:                       0.380\n",
      "Model:                            OLS   Adj. R-squared:                  0.379\n",
      "Method:                 Least Squares   F-statistic:                     310.9\n",
      "Date:                Wed, 26 Aug 2020   Prob (F-statistic):           1.30e-54\n",
      "Time:                        08:05:33   Log-Likelihood:                -791.35\n",
      "No. Observations:                 509   AIC:                             1587.\n",
      "Df Residuals:                     507   BIC:                             1595.\n",
      "Df Model:                           1                                         \n",
      "Covariance Type:            nonrobust                                         \n",
      "==============================================================================\n",
      "                 coef    std err          t      P>|t|      [0.025      0.975]\n",
      "------------------------------------------------------------------------------\n",
      "const         -2.9417      0.150    -19.645      0.000      -3.236      -2.647\n",
      "GSR_start      0.0461      0.003     17.631      0.000       0.041       0.051\n",
      "==============================================================================\n",
      "Omnibus:                      212.128   Durbin-Watson:                   0.227\n",
      "Prob(Omnibus):                  0.000   Jarque-Bera (JB):             2558.993\n",
      "Skew:                          -1.470   Prob(JB):                         0.00\n",
      "Kurtosis:                      13.584   Cond. No.                         169.\n",
      "==============================================================================\n",
      "\n",
      "Warnings:\n",
      "[1] Standard Errors assume that the covariance matrix of the errors is correctly specified.\n",
      "Pct_Return = 0.046*(GSR-63.770)\n",
      "RSQ_Adj = 37.89%\n"
     ]
    },
    {
     "name": "stderr",
     "output_type": "stream",
     "text": [
      "C:\\Users\\jiape\\Anaconda3\\lib\\site-packages\\numpy\\core\\fromnumeric.py:52: FutureWarning: Method .ptp is deprecated and will be removed in a future version. Use numpy.ptp instead.\n",
      "  return getattr(obj, method)(*args, **kwds)\n"
     ]
    }
   ],
   "source": [
    "# Duplicate the df for the study\n",
    "gs_return_df1 = gs_return_df\n",
    "\n",
    "# Here x is GSR and y is the relative return\n",
    "X1 = gs_return_df1['GSR_start']\n",
    "Y1 = gs_return_df1['return_rel']\n",
    "\n",
    "# Fit the line regression model\n",
    "model1 = sm.OLS(Y1, sm.add_constant(X1))\n",
    "results1 = model1.fit()\n",
    "print(results1.summary())\n",
    "\n",
    "# Prepare result text\n",
    "ax1_text = \"Pct_Return = {:.3f}*(GSR{:.3f})\\nRSQ_Adj = {:.2f}%\" \\\n",
    "            .format(results1.params.GSR_start, results1.params.const/results1.params.GSR_start,\n",
    "                    results1.rsquared_adj*100)\n",
    "print(ax1_text)"
   ]
  },
  {
   "cell_type": "markdown",
   "metadata": {},
   "source": [
    "#### Using Log Return"
   ]
  },
  {
   "cell_type": "code",
   "execution_count": 147,
   "metadata": {},
   "outputs": [
    {
     "name": "stdout",
     "output_type": "stream",
     "text": [
      "                            OLS Regression Results                            \n",
      "==============================================================================\n",
      "Dep. Variable:         log_return_rel   R-squared:                       0.633\n",
      "Model:                            OLS   Adj. R-squared:                  0.632\n",
      "Method:                 Least Squares   F-statistic:                     873.0\n",
      "Date:                Wed, 26 Aug 2020   Prob (F-statistic):          2.57e-112\n",
      "Time:                        08:05:51   Log-Likelihood:                -1.9978\n",
      "No. Observations:                 509   AIC:                             7.996\n",
      "Df Residuals:                     507   BIC:                             16.46\n",
      "Df Model:                           1                                         \n",
      "Covariance Type:            nonrobust                                         \n",
      "==============================================================================\n",
      "                 coef    std err          t      P>|t|      [0.025      0.975]\n",
      "------------------------------------------------------------------------------\n",
      "const         -1.0835      0.032    -34.119      0.000      -1.146      -1.021\n",
      "GSR_start      0.0164      0.001     29.546      0.000       0.015       0.017\n",
      "==============================================================================\n",
      "Omnibus:                       15.204   Durbin-Watson:                   0.097\n",
      "Prob(Omnibus):                  0.000   Jarque-Bera (JB):               17.423\n",
      "Skew:                           0.342   Prob(JB):                     0.000165\n",
      "Kurtosis:                       3.595   Cond. No.                         169.\n",
      "==============================================================================\n",
      "\n",
      "Warnings:\n",
      "[1] Standard Errors assume that the covariance matrix of the errors is correctly specified.\n",
      "Log_Return = 0.016*(GSR-66.091)\n",
      "RSQ_Adj = 63.19%\n"
     ]
    },
    {
     "name": "stderr",
     "output_type": "stream",
     "text": [
      "C:\\Users\\jiape\\Anaconda3\\lib\\site-packages\\numpy\\core\\fromnumeric.py:52: FutureWarning: Method .ptp is deprecated and will be removed in a future version. Use numpy.ptp instead.\n",
      "  return getattr(obj, method)(*args, **kwds)\n"
     ]
    }
   ],
   "source": [
    "# Filter on the data (<= 2018-03-26)\n",
    "# gs_return_df1 = gs_return_df.loc[gs_return_df.index <= \"2018-02-01\"]\n",
    "gs_log_return_df1 = gs_log_return_df\n",
    "\n",
    "# Here x is GSR and y is the relative return\n",
    "X1b = gs_log_return_df1['GSR_start']\n",
    "Y1b = gs_log_return_df1['log_return_rel']\n",
    "\n",
    "# Fit the line regression model\n",
    "model1b = sm.OLS(Y1b, sm.add_constant(X1b))\n",
    "results1b = model1b.fit()\n",
    "print(results1b.summary())\n",
    "\n",
    "# Prepare result text\n",
    "ax1b_text = \"Log_Return = {:.3f}*(GSR{:.3f})\\nRSQ_Adj = {:.2f}%\" \\\n",
    "            .format(results1b.params.GSR_start, results1b.params.const/results1b.params.GSR_start,\n",
    "                    results1b.rsquared_adj*100)\n",
    "print(ax1b_text)"
   ]
  },
  {
   "cell_type": "markdown",
   "metadata": {},
   "source": [
    "#### Analysis"
   ]
  },
  {
   "cell_type": "code",
   "execution_count": 154,
   "metadata": {
    "scrolled": false
   },
   "outputs": [
    {
     "data": {
      "image/png": "[encoded data removed]",
      "text/plain": [
       "<matplotlib.figure.Figure at 0x1de1e995550>"
      ]
     },
     "metadata": {},
     "output_type": "display_data"
    }
   ],
   "source": [
    "fig, (ax1, ax2) = plt.subplots(2, 1, figsize=(12, 6), sharex=True)\n",
    "\n",
    "# Percentage return\n",
    "ax1.plot(X1, Y1, 'o', markersize=2)\n",
    "ax1.plot(X1, results1.params.GSR_start * X1 + results1.params.const)\n",
    "ax1.set_ylabel('Percentage Return')\n",
    "ax1.text(75, -5, ax1_text, verticalalignment=\"top\")\n",
    "ax1.grid()\n",
    "\n",
    "# Log return\n",
    "ax2.plot(X1b, Y1b, 'o', markersize=2)\n",
    "ax2.plot(X1b, results1b.params.GSR_start * X1b + results1b.params.const)\n",
    "ax2.set_xlabel('Gold to Silver Ratio (GSR)'), ax2.set_ylabel('Log Return')\n",
    "ax2.text(75, -1, ax1b_text, verticalalignment=\"top\")\n",
    "ax2.grid()\n",
    "\n",
    "fig.suptitle(\"Attempt 1 - Relative Return of Silver to Gold\", y=0.93)\n",
    "plt.subplots_adjust(hspace=.05)\n",
    "plt.show()"
   ]
  },
  {
   "cell_type": "markdown",
   "metadata": {},
   "source": [
    "From the comparison from above, we can see that using log return provides a better fitting results. This is not a surprise as it is a typical way to analyse time series data. Contrast our results to Balanp's:\n",
    "\n",
    "%Return = 0.1654 \\* (GSR - 64.1) = -10.602 + 0.1654 \\* GSR, with RSQ = 82%\n",
    "\n",
    "It appears that belangp calculated the return differently."
   ]
  },
  {
   "cell_type": "markdown",
   "metadata": {},
   "source": [
    "## 3.2. Second Attempt"
   ]
  },
  {
   "cell_type": "markdown",
   "metadata": {},
   "source": [
    "In this attempt, I will apply a percentile filter to take out the extreme (1%) observations from both ends, using only the log return."
   ]
  },
  {
   "cell_type": "code",
   "execution_count": 157,
   "metadata": {},
   "outputs": [
    {
     "name": "stdout",
     "output_type": "stream",
     "text": [
      "                            OLS Regression Results                            \n",
      "==============================================================================\n",
      "Dep. Variable:         log_return_rel   R-squared:                       0.587\n",
      "Model:                            OLS   Adj. R-squared:                  0.586\n",
      "Method:                 Least Squares   F-statistic:                     646.9\n",
      "Date:                Wed, 26 Aug 2020   Prob (F-statistic):           2.00e-89\n",
      "Time:                        08:14:45   Log-Likelihood:                 49.798\n",
      "No. Observations:                 457   AIC:                            -95.60\n",
      "Df Residuals:                     455   BIC:                            -87.35\n",
      "Df Model:                           1                                         \n",
      "Covariance Type:            nonrobust                                         \n",
      "==============================================================================\n",
      "                 coef    std err          t      P>|t|      [0.025      0.975]\n",
      "------------------------------------------------------------------------------\n",
      "const         -0.9434      0.031    -30.133      0.000      -1.005      -0.882\n",
      "GSR_start      0.0140      0.001     25.433      0.000       0.013       0.015\n",
      "==============================================================================\n",
      "Omnibus:                       14.504   Durbin-Watson:                   0.110\n",
      "Prob(Omnibus):                  0.001   Jarque-Bera (JB):               15.011\n",
      "Skew:                           0.418   Prob(JB):                     0.000550\n",
      "Kurtosis:                       3.299   Cond. No.                         175.\n",
      "==============================================================================\n",
      "\n",
      "Warnings:\n",
      "[1] Standard Errors assume that the covariance matrix of the errors is correctly specified.\n",
      "Log_Return = 0.014*(GSR-67.462)\n",
      "RSQ_Adj = 58.62%\n"
     ]
    },
    {
     "name": "stderr",
     "output_type": "stream",
     "text": [
      "C:\\Users\\jiape\\Anaconda3\\lib\\site-packages\\numpy\\core\\fromnumeric.py:52: FutureWarning: Method .ptp is deprecated and will be removed in a future version. Use numpy.ptp instead.\n",
      "  return getattr(obj, method)(*args, **kwds)\n"
     ]
    }
   ],
   "source": [
    "# Take out observations within 1% of either tails\n",
    "filt_alpha = 0.05\n",
    "filt_cond = ( gs_log_return_df.log_return_rel <= np.percentile(gs_log_return_df.log_return_rel, (1-filt_alpha)*100) ) &\\\n",
    "            ( gs_log_return_df.log_return_rel >= np.percentile(gs_log_return_df.log_return_rel, filt_alpha*100))\n",
    "gs_log_return_df2 = gs_log_return_df[filt_cond]\n",
    "\n",
    "# Here x is GSR and y is the relative return\n",
    "X2 = gs_log_return_df2['GSR_start']\n",
    "Y2 = gs_log_return_df2['log_return_rel']\n",
    "\n",
    "# Fit the line regression model\n",
    "model2 = sm.OLS(Y2, sm.add_constant(X2))\n",
    "results2 = model2.fit()\n",
    "print(results2.summary())\n",
    "\n",
    "# Prepare result text\n",
    "ax2_text = \"Log_Return = {:.3f}*(GSR{:.3f})\\nRSQ_Adj = {:.2f}%\" \\\n",
    "            .format(results2.params.GSR_start, results2.params.const/results2.params.GSR_start,\n",
    "                    results2.rsquared_adj*100)\n",
    "print(ax2_text)"
   ]
  },
  {
   "cell_type": "code",
   "execution_count": 158,
   "metadata": {},
   "outputs": [
    {
     "data": {
      "image/png": "[encoded data removed]",
      "text/plain": [
       "<matplotlib.figure.Figure at 0x1de1d86d4a8>"
      ]
     },
     "metadata": {},
     "output_type": "display_data"
    }
   ],
   "source": [
    "fig, (ax1, ax2) = plt.subplots(2, 1, figsize=(12, 6), sharex=True)\n",
    "\n",
    "# Percentage return\n",
    "ax1.plot(X1b, Y1b, 'o', markersize=2)\n",
    "ax1.plot(X1b, results1.params.GSR_start * X1 + results1.params.const)\n",
    "ax1.set_ylabel('Log Return (All)')\n",
    "ax1.text(75, -5, ax1b_text, verticalalignment=\"top\")\n",
    "ax1.grid()\n",
    "\n",
    "# Log return\n",
    "ax2.plot(X2, Y2, 'o', markersize=2)\n",
    "ax2.plot(X2, results1b.params.GSR_start * X2 + results1b.params.const)\n",
    "ax2.set_xlabel('Gold to Silver Ratio (GSR)'), ax2.set_ylabel('Log Return (Filtered)')\n",
    "ax2.text(75, -1, ax2_text, verticalalignment=\"top\")\n",
    "ax2.grid()\n",
    "\n",
    "fig.suptitle(\"Attempt 1 - Relative Return of Silver to Gold\", y=0.93)\n",
    "plt.subplots_adjust(hspace=.05)\n",
    "plt.show()"
   ]
  },
  {
   "cell_type": "code",
   "execution_count": null,
   "metadata": {},
   "outputs": [],
   "source": []
  }
 ],
 "metadata": {
  "kernelspec": {
   "display_name": "Python 3",
   "language": "python",
   "name": "python3"
  },
  "language_info": {
   "codemirror_mode": {
    "name": "ipython",
    "version": 3
   },
   "file_extension": ".py",
   "mimetype": "text/x-python",
   "name": "python",
   "nbconvert_exporter": "python",
   "pygments_lexer": "ipython3",
   "version": "3.6.4"
  }
 },
 "nbformat": 4,
 "nbformat_minor": 2
}
