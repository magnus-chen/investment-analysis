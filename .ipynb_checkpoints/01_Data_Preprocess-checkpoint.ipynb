{
 "cells": [
  {
   "cell_type": "code",
   "execution_count": 60,
   "metadata": {},
   "outputs": [],
   "source": [
    "import pandas as pd\n",
    "import quandl\n",
    "import math\n",
    "import numpy as np\n",
    "import scipy.stats\n",
    "from matplotlib import pyplot as plt"
   ]
  },
  {
   "cell_type": "code",
   "execution_count": 2,
   "metadata": {},
   "outputs": [],
   "source": [
    "start_date = \"1900-01-01\"\n",
    "end_date = \"2020-05-23\""
   ]
  },
  {
   "cell_type": "markdown",
   "metadata": {},
   "source": [
    "## Get Data from Quandl Source\n",
    "#### LBMA Gold"
   ]
  },
  {
   "cell_type": "code",
   "execution_count": null,
   "metadata": {},
   "outputs": [],
   "source": [
    "lbma_gold_df = quandl.get(\"LBMA/GOLD\", authtoken=\"mph6fTrjas2wX3sBdYQn\", start_date=start_date, end_date=end_date)\n",
    "lbma_gold_df['LBMA_Gold_USD'] = (lbma_gold_df['USD (AM)'] + lbma_gold_df['USD (PM)']) *0.5\n",
    "lbma_gold_df.index = pd.to_datetime(lbma_gold_df.index)\n",
    "pd.DataFrame(lbma_gold_df['LBMA_Gold_USD']).to_csv('02_Processed_Data/lbma_gold_usd.csv')"
   ]
  },
  {
   "cell_type": "markdown",
   "metadata": {},
   "source": [
    "#### LBMA Silver"
   ]
  },
  {
   "cell_type": "code",
   "execution_count": 26,
   "metadata": {},
   "outputs": [],
   "source": [
    "lbma_silver_df = quandl.get(\"LBMA/SILVER\", authtoken=\"mph6fTrjas2wX3sBdYQn\", start_date=start_date, end_date=end_date)\n",
    "lbma_silver_df.index = pd.to_datetime(lbma_silver_df.index)\n",
    "lbma_silver_df['LBMA_Silver_USD'] = lbma_silver_df['USD']\n",
    "pd.DataFrame(lbma_silver_df['LBMA_Silver_USD']).to_csv('02_Processed_Data/lbma_silver_usd.csv')"
   ]
  },
  {
   "cell_type": "markdown",
   "metadata": {},
   "source": [
    "#### Gold to Oil Ratio (MacroTrend)"
   ]
  },
  {
   "cell_type": "code",
   "execution_count": 8,
   "metadata": {},
   "outputs": [],
   "source": [
    "gold2oil_df = pd.read_csv('01_Raw_Data/gold-to-oil-ratio-historical-chart.csv', index_col=0, usecols=[0, 1])\n",
    "gold2oil_df.columns = ['Gold_to_Oil']\n",
    "gold2oil_df.index.names = [\"Date\"]\n",
    "gold2oil_df.index = pd.to_datetime(gold2oil_df.index, format=\"%Y/%m/%d\")\n",
    "gold2oil_df.to_csv('02_Processed_Data/gold_to_oil.csv')"
   ]
  },
  {
   "cell_type": "markdown",
   "metadata": {},
   "source": [
    "#### Dow Jones"
   ]
  },
  {
   "cell_type": "code",
   "execution_count": 1,
   "metadata": {},
   "outputs": [
    {
     "ename": "NameError",
     "evalue": "name 'pd' is not defined",
     "output_type": "error",
     "traceback": [
      "\u001b[1;31m---------------------------------------------------------------------------\u001b[0m",
      "\u001b[1;31mNameError\u001b[0m                                 Traceback (most recent call last)",
      "\u001b[1;32m<ipython-input-1-78e86baeb1e6>\u001b[0m in \u001b[0;36m<module>\u001b[1;34m()\u001b[0m\n\u001b[1;32m----> 1\u001b[1;33m \u001b[0mdji_df\u001b[0m \u001b[1;33m=\u001b[0m \u001b[0mpd\u001b[0m\u001b[1;33m.\u001b[0m\u001b[0mDataFrame\u001b[0m\u001b[1;33m(\u001b[0m\u001b[0mpd\u001b[0m\u001b[1;33m.\u001b[0m\u001b[0mread_csv\u001b[0m\u001b[1;33m(\u001b[0m\u001b[1;34m'01_Raw_Data/DJI.csv'\u001b[0m\u001b[1;33m,\u001b[0m \u001b[0mindex_col\u001b[0m\u001b[1;33m=\u001b[0m\u001b[1;36m0\u001b[0m\u001b[1;33m)\u001b[0m\u001b[1;33m[\u001b[0m\u001b[1;34m'Adj Close'\u001b[0m\u001b[1;33m]\u001b[0m\u001b[1;33m)\u001b[0m\u001b[1;33m\u001b[0m\u001b[0m\n\u001b[0m\u001b[0;32m      2\u001b[0m \u001b[0mdji_df\u001b[0m\u001b[1;33m.\u001b[0m\u001b[0mcolumns\u001b[0m \u001b[1;33m=\u001b[0m \u001b[1;33m[\u001b[0m\u001b[1;34m'DJI'\u001b[0m\u001b[1;33m]\u001b[0m\u001b[1;33m\u001b[0m\u001b[0m\n\u001b[0;32m      3\u001b[0m \u001b[0mdji_df\u001b[0m\u001b[1;33m.\u001b[0m\u001b[0mindex\u001b[0m \u001b[1;33m=\u001b[0m \u001b[0mpd\u001b[0m\u001b[1;33m.\u001b[0m\u001b[0mto_datetime\u001b[0m\u001b[1;33m(\u001b[0m\u001b[0mdji_df\u001b[0m\u001b[1;33m.\u001b[0m\u001b[0mindex\u001b[0m\u001b[1;33m)\u001b[0m\u001b[1;33m\u001b[0m\u001b[0m\n\u001b[0;32m      4\u001b[0m \u001b[0mdji_df\u001b[0m\u001b[1;33m.\u001b[0m\u001b[0mto_csv\u001b[0m\u001b[1;33m(\u001b[0m\u001b[1;34m'02_Processed_Data/DJI.csv'\u001b[0m\u001b[1;33m)\u001b[0m\u001b[1;33m\u001b[0m\u001b[0m\n",
      "\u001b[1;31mNameError\u001b[0m: name 'pd' is not defined"
     ]
    }
   ],
   "source": [
    "dji_df = pd.DataFrame(pd.read_csv('01_Raw_Data/DJI.csv', index_col=0)['Adj Close'])\n",
    "dji_df.columns = ['DJI']\n",
    "dji_df.index = pd.to_datetime(dji_df.index)\n",
    "dji_df.to_csv('02_Processed_Data/DJI.csv')"
   ]
  },
  {
   "cell_type": "markdown",
   "metadata": {},
   "source": [
    "## Append Data "
   ]
  },
  {
   "cell_type": "code",
   "execution_count": 67,
   "metadata": {},
   "outputs": [],
   "source": [
    "# Read source\n",
    "lbma_gold_usd = pd.read_csv('02_Processed_Data/lbma_gold_usd.csv', index_col=0, parse_dates=True)\n",
    "lbma_silver_usd = pd.read_csv('02_Processed_Data/lbma_silver_usd.csv', index_col=0, parse_dates=True)\n",
    "gold2oil = pd.read_csv('02_Processed_Data/gold_to_oil.csv', index_col=0, parse_dates=True)\n",
    "dow_jones = pd.read_csv('02_Processed_Data/DJI.csv', index_col=0, parse_dates=True)\n",
    "\n",
    "# Resample to month-end\n",
    "lbma_gold_usd = lbma_gold_usd.resample('M').last()\n",
    "lbma_silver_usd = lbma_silver_usd.resample('M').last()\n",
    "gold2oil = gold2oil.resample('M').last()\n",
    "dow_jones = dow_jones.resample('M').last()"
   ]
  },
  {
   "cell_type": "code",
   "execution_count": 73,
   "metadata": {},
   "outputs": [
    {
     "data": {
      "text/html": [
       "<div>\n",
       "<style scoped>\n",
       "    .dataframe tbody tr th:only-of-type {\n",
       "        vertical-align: middle;\n",
       "    }\n",
       "\n",
       "    .dataframe tbody tr th {\n",
       "        vertical-align: top;\n",
       "    }\n",
       "\n",
       "    .dataframe thead th {\n",
       "        text-align: right;\n",
       "    }\n",
       "</style>\n",
       "<table border=\"1\" class=\"dataframe\">\n",
       "  <thead>\n",
       "    <tr style=\"text-align: right;\">\n",
       "      <th></th>\n",
       "      <th>LBMA_Gold_USD</th>\n",
       "      <th>LBMA_Silver_USD</th>\n",
       "      <th>Gold_to_Oil</th>\n",
       "      <th>DJI</th>\n",
       "    </tr>\n",
       "    <tr>\n",
       "      <th>Date</th>\n",
       "      <th></th>\n",
       "      <th></th>\n",
       "      <th></th>\n",
       "      <th></th>\n",
       "    </tr>\n",
       "  </thead>\n",
       "  <tbody>\n",
       "    <tr>\n",
       "      <th>1946-01-31</th>\n",
       "      <td>NaN</td>\n",
       "      <td>NaN</td>\n",
       "      <td>29.9145</td>\n",
       "      <td>NaN</td>\n",
       "    </tr>\n",
       "    <tr>\n",
       "      <th>1946-02-28</th>\n",
       "      <td>NaN</td>\n",
       "      <td>NaN</td>\n",
       "      <td>29.9145</td>\n",
       "      <td>NaN</td>\n",
       "    </tr>\n",
       "    <tr>\n",
       "      <th>1946-03-31</th>\n",
       "      <td>NaN</td>\n",
       "      <td>NaN</td>\n",
       "      <td>29.9145</td>\n",
       "      <td>NaN</td>\n",
       "    </tr>\n",
       "    <tr>\n",
       "      <th>1946-04-30</th>\n",
       "      <td>NaN</td>\n",
       "      <td>NaN</td>\n",
       "      <td>27.5591</td>\n",
       "      <td>NaN</td>\n",
       "    </tr>\n",
       "    <tr>\n",
       "      <th>1946-05-31</th>\n",
       "      <td>NaN</td>\n",
       "      <td>NaN</td>\n",
       "      <td>27.5591</td>\n",
       "      <td>NaN</td>\n",
       "    </tr>\n",
       "  </tbody>\n",
       "</table>\n",
       "</div>"
      ],
      "text/plain": [
       "            LBMA_Gold_USD  LBMA_Silver_USD  Gold_to_Oil  DJI\n",
       "Date                                                        \n",
       "1946-01-31            NaN              NaN      29.9145  NaN\n",
       "1946-02-28            NaN              NaN      29.9145  NaN\n",
       "1946-03-31            NaN              NaN      29.9145  NaN\n",
       "1946-04-30            NaN              NaN      27.5591  NaN\n",
       "1946-05-31            NaN              NaN      27.5591  NaN"
      ]
     },
     "execution_count": 73,
     "metadata": {},
     "output_type": "execute_result"
    }
   ],
   "source": [
    "# Append together\n",
    "comb_df = lbma_gold_usd.merge(lbma_silver_usd, how='outer', left_index=True, right_index=True)\\\n",
    "                       .merge(gold2oil, how='outer', left_index=True, right_index=True)\\\n",
    "                       .merge(dow_jones, how='outer', left_index=True, right_index=True)\n",
    "# comb_df = comb_df.dropna(how='any')\n",
    "comb_df.head()"
   ]
  },
  {
   "cell_type": "code",
   "execution_count": 75,
   "metadata": {
    "scrolled": true
   },
   "outputs": [],
   "source": [
    "# Calculate Ratio\n",
    "comb_df['Gold_to_Silver'] = comb_df['LBMA_Gold_USD'] / comb_df['LBMA_Silver_USD'] \n",
    "comb_df['Silver_to_Oil'] = comb_df['Gold_to_Oil'] / comb_df['Gold_to_Silver'] \n",
    "comb_df['Gold_to_Dow'] = comb_df['LBMA_Gold_USD'] / comb_df['DJI']\n",
    "comb_df['Silver_to_Dow'] = comb_df['LBMA_Silver_USD'] / comb_df['DJI'] \n",
    "comb_df.to_csv('02_Processed_Data/combine_data.csv')"
   ]
  },
  {
   "cell_type": "markdown",
   "metadata": {},
   "source": [
    "## Standardise Ratio"
   ]
  },
  {
   "cell_type": "code",
   "execution_count": 98,
   "metadata": {},
   "outputs": [],
   "source": [
    "ratio_df = comb_df.filter(regex='_to_').dropna()\n",
    "ratio_df = ratio_df.apply(lambda x:(x - min(x))/(max(x)-min(x)), axis = 0)\n",
    "ratio_df = ratio_df - ratio_df.mean()\n",
    "\n",
    "# ratio_df.describe()\n",
    "ratio_df.to_csv('02_Processed_Data/ratio_df.csv')"
   ]
  },
  {
   "cell_type": "markdown",
   "metadata": {},
   "source": [
    "## Calculate MoM Growth"
   ]
  },
  {
   "cell_type": "code",
   "execution_count": 119,
   "metadata": {},
   "outputs": [],
   "source": [
    "# Read LBMA gold and silver price, get MoM and month label\n",
    "lbma_df = pd.read_csv('02_Processed_Data/combine_data.csv', index_col=0, usecols=[0,1,2])\n",
    "growth = lbma_df.pct_change().dropna()\n",
    "growth.index = pd.to_datetime(growth.index)\n",
    "growth['Month'] = growth.index.month\n",
    "\n",
    "log_return = np.log(lbma_df).diff().dropna()\n",
    "log_return['Month'] = growth.index.month"
   ]
  },
  {
   "cell_type": "code",
   "execution_count": 120,
   "metadata": {},
   "outputs": [
    {
     "data": {
      "text/html": [
       "<div>\n",
       "<style scoped>\n",
       "    .dataframe tbody tr th:only-of-type {\n",
       "        vertical-align: middle;\n",
       "    }\n",
       "\n",
       "    .dataframe tbody tr th {\n",
       "        vertical-align: top;\n",
       "    }\n",
       "\n",
       "    .dataframe thead th {\n",
       "        text-align: right;\n",
       "    }\n",
       "</style>\n",
       "<table border=\"1\" class=\"dataframe\">\n",
       "  <thead>\n",
       "    <tr style=\"text-align: right;\">\n",
       "      <th></th>\n",
       "      <th>LBMA_Gold_USD</th>\n",
       "      <th>LBMA_Silver_USD</th>\n",
       "      <th>Month</th>\n",
       "    </tr>\n",
       "    <tr>\n",
       "      <th>Date</th>\n",
       "      <th></th>\n",
       "      <th></th>\n",
       "      <th></th>\n",
       "    </tr>\n",
       "  </thead>\n",
       "  <tbody>\n",
       "    <tr>\n",
       "      <th>1968-05-31</th>\n",
       "      <td>0.070952</td>\n",
       "      <td>0.035250</td>\n",
       "      <td>5</td>\n",
       "    </tr>\n",
       "    <tr>\n",
       "      <th>1968-06-30</th>\n",
       "      <td>-0.025333</td>\n",
       "      <td>0.007623</td>\n",
       "      <td>6</td>\n",
       "    </tr>\n",
       "    <tr>\n",
       "      <th>1968-07-31</th>\n",
       "      <td>-0.051390</td>\n",
       "      <td>-0.090724</td>\n",
       "      <td>7</td>\n",
       "    </tr>\n",
       "    <tr>\n",
       "      <th>1968-08-31</th>\n",
       "      <td>0.024143</td>\n",
       "      <td>-0.020337</td>\n",
       "      <td>8</td>\n",
       "    </tr>\n",
       "    <tr>\n",
       "      <th>1968-09-30</th>\n",
       "      <td>-0.004404</td>\n",
       "      <td>-0.030841</td>\n",
       "      <td>9</td>\n",
       "    </tr>\n",
       "  </tbody>\n",
       "</table>\n",
       "</div>"
      ],
      "text/plain": [
       "            LBMA_Gold_USD  LBMA_Silver_USD  Month\n",
       "Date                                             \n",
       "1968-05-31       0.070952         0.035250      5\n",
       "1968-06-30      -0.025333         0.007623      6\n",
       "1968-07-31      -0.051390        -0.090724      7\n",
       "1968-08-31       0.024143        -0.020337      8\n",
       "1968-09-30      -0.004404        -0.030841      9"
      ]
     },
     "execution_count": 120,
     "metadata": {},
     "output_type": "execute_result"
    }
   ],
   "source": [
    "log_return.head()"
   ]
  },
  {
   "cell_type": "code",
   "execution_count": 90,
   "metadata": {},
   "outputs": [
    {
     "data": {
      "text/html": [
       "<div>\n",
       "<style scoped>\n",
       "    .dataframe tbody tr th:only-of-type {\n",
       "        vertical-align: middle;\n",
       "    }\n",
       "\n",
       "    .dataframe tbody tr th {\n",
       "        vertical-align: top;\n",
       "    }\n",
       "\n",
       "    .dataframe thead th {\n",
       "        text-align: right;\n",
       "    }\n",
       "</style>\n",
       "<table border=\"1\" class=\"dataframe\">\n",
       "  <thead>\n",
       "    <tr style=\"text-align: right;\">\n",
       "      <th></th>\n",
       "      <th>mean</th>\n",
       "      <th>count</th>\n",
       "      <th>std</th>\n",
       "    </tr>\n",
       "    <tr>\n",
       "      <th>Month</th>\n",
       "      <th></th>\n",
       "      <th></th>\n",
       "      <th></th>\n",
       "    </tr>\n",
       "  </thead>\n",
       "  <tbody>\n",
       "    <tr>\n",
       "      <th>1</th>\n",
       "      <td>0.020316</td>\n",
       "      <td>52</td>\n",
       "      <td>0.069169</td>\n",
       "    </tr>\n",
       "    <tr>\n",
       "      <th>2</th>\n",
       "      <td>0.014956</td>\n",
       "      <td>52</td>\n",
       "      <td>0.069598</td>\n",
       "    </tr>\n",
       "    <tr>\n",
       "      <th>3</th>\n",
       "      <td>-0.005581</td>\n",
       "      <td>52</td>\n",
       "      <td>0.052043</td>\n",
       "    </tr>\n",
       "    <tr>\n",
       "      <th>4</th>\n",
       "      <td>0.004479</td>\n",
       "      <td>52</td>\n",
       "      <td>0.041974</td>\n",
       "    </tr>\n",
       "    <tr>\n",
       "      <th>5</th>\n",
       "      <td>0.011268</td>\n",
       "      <td>53</td>\n",
       "      <td>0.061922</td>\n",
       "    </tr>\n",
       "    <tr>\n",
       "      <th>6</th>\n",
       "      <td>-0.001171</td>\n",
       "      <td>52</td>\n",
       "      <td>0.056357</td>\n",
       "    </tr>\n",
       "    <tr>\n",
       "      <th>7</th>\n",
       "      <td>0.004806</td>\n",
       "      <td>52</td>\n",
       "      <td>0.046321</td>\n",
       "    </tr>\n",
       "    <tr>\n",
       "      <th>8</th>\n",
       "      <td>0.008314</td>\n",
       "      <td>52</td>\n",
       "      <td>0.051340</td>\n",
       "    </tr>\n",
       "    <tr>\n",
       "      <th>9</th>\n",
       "      <td>0.017439</td>\n",
       "      <td>52</td>\n",
       "      <td>0.065766</td>\n",
       "    </tr>\n",
       "    <tr>\n",
       "      <th>10</th>\n",
       "      <td>-0.000100</td>\n",
       "      <td>52</td>\n",
       "      <td>0.048026</td>\n",
       "    </tr>\n",
       "    <tr>\n",
       "      <th>11</th>\n",
       "      <td>0.006898</td>\n",
       "      <td>52</td>\n",
       "      <td>0.055216</td>\n",
       "    </tr>\n",
       "    <tr>\n",
       "      <th>12</th>\n",
       "      <td>0.010095</td>\n",
       "      <td>52</td>\n",
       "      <td>0.056930</td>\n",
       "    </tr>\n",
       "  </tbody>\n",
       "</table>\n",
       "</div>"
      ],
      "text/plain": [
       "           mean  count       std\n",
       "Month                           \n",
       "1      0.020316     52  0.069169\n",
       "2      0.014956     52  0.069598\n",
       "3     -0.005581     52  0.052043\n",
       "4      0.004479     52  0.041974\n",
       "5      0.011268     53  0.061922\n",
       "6     -0.001171     52  0.056357\n",
       "7      0.004806     52  0.046321\n",
       "8      0.008314     52  0.051340\n",
       "9      0.017439     52  0.065766\n",
       "10    -0.000100     52  0.048026\n",
       "11     0.006898     52  0.055216\n",
       "12     0.010095     52  0.056930"
      ]
     },
     "execution_count": 90,
     "metadata": {},
     "output_type": "execute_result"
    }
   ],
   "source": [
    "stats.loc[:,'LBMA_Gold_USD']"
   ]
  },
  {
   "cell_type": "code",
   "execution_count": 123,
   "metadata": {
    "code_folding": [
     7
    ]
   },
   "outputs": [
    {
     "name": "stdout",
     "output_type": "stream",
     "text": [
      "      LBMA_Gold_USD                 LBMA_Silver_USD                \n",
      "               mean count       std            mean count       std\n",
      "Month                                                              \n",
      "1          0.017943    52  0.065969        0.027011    52  0.072805\n",
      "2          0.012655    52  0.066100        0.018542    52  0.091100\n",
      "3         -0.007002    52  0.054229       -0.014682    52  0.157098\n",
      "4          0.003616    52  0.041667       -0.000458    52  0.089371\n",
      "5          0.009479    53  0.058440       -0.002587    53  0.083195\n"
     ]
    }
   ],
   "source": [
    "# stats = growth.groupby(['Month']).agg(['mean', 'count', 'std'])\n",
    "stats = log_return.groupby(['Month']).agg(['mean', 'count', 'std'])\n",
    "print(stats.head())\n",
    "# print('-'*30)\n",
    "\n",
    "ci95_hi = []\n",
    "ci95_lo = []\n",
    "\n",
    "# Normal Distribution\n",
    "def get_95CI(stats):\n",
    "    for i in stats.index:\n",
    "        m, c, s = stats.loc[i]\n",
    "        ci95_hi.append(m + 1.96*s/math.sqrt(c))\n",
    "        ci95_lo.append(m - 1.96*s/math.sqrt(c))\n",
    "\n",
    "    stats['ci95_hi'] = ci95_hi\n",
    "    stats['ci95_lo'] = ci95_lo\n",
    "    print(stats)\n",
    "\n",
    "# get_95CI(stats.loc[:,'LBMA_Gold_USD'])\n",
    "\n",
    "# t-Distribution\n",
    "def mean_confidence_interval(data, confidence=0.95):\n",
    "    n = data['count']\n",
    "    m = data['mean']\n",
    "    se = data['std']\n",
    "    h = se * scipy.stats.t.ppf((1 + confidence) / 2., n-1)\n",
    "    return m, h\n",
    "\n",
    "xau_m, xau_h = mean_confidence_interval(stats.loc[:, 'LBMA_Gold_USD'])\n",
    "xag_m, xag_h = mean_confidence_interval(stats.loc[:, 'LBMA_Silver_USD'])"
   ]
  },
  {
   "cell_type": "code",
   "execution_count": 126,
   "metadata": {},
   "outputs": [
    {
     "data": {
      "text/plain": [
       "[<matplotlib.lines.Line2D at 0x188c9e7d9b0>]"
      ]
     },
     "execution_count": 126,
     "metadata": {},
     "output_type": "execute_result"
    },
    {
     "data": {
      "image/png": "[encoded data removed]",
      "text/plain": [
       "<matplotlib.figure.Figure at 0x188c6768550>"
      ]
     },
     "metadata": {},
     "output_type": "display_data"
    }
   ],
   "source": [
    "# plt.subplots(1,2)\n",
    "\n",
    "plt.subplot(1,2,1)\n",
    "plt.plot(stats.index, xau_m)\n",
    "# plt.fill_between(stats.index, (xau_m-xau_h), (xau_m+xau_h), color='b', alpha=.1)\n",
    "\n",
    "plt.subplot(1,2,2)\n",
    "plt.plot(stats.index, xag_m)\n",
    "# plt.fill_between(stats.index, (xag_m-xag_h), (xag_m+xag_h), color='b', alpha=.1)"
   ]
  },
  {
   "cell_type": "code",
   "execution_count": 96,
   "metadata": {},
   "outputs": [
    {
     "data": {
      "text/plain": [
       "Date\n",
       "1968-05-31    0.073529\n",
       "1968-06-30   -0.025015\n",
       "1968-07-31   -0.050092\n",
       "1968-08-31    0.024437\n",
       "1968-09-30   -0.004394\n",
       "                ...   \n",
       "2020-01-31    0.045865\n",
       "2020-02-29    0.022480\n",
       "2020-03-31   -0.006983\n",
       "2020-04-30    0.064071\n",
       "2020-05-31    0.013598\n",
       "Name: LBMA_Gold_USD, Length: 625, dtype: float64"
      ]
     },
     "execution_count": 96,
     "metadata": {},
     "output_type": "execute_result"
    }
   ],
   "source": [
    "xau_m\n",
    "growth['LBMA_Gold_USD']"
   ]
  }
 ],
 "metadata": {
  "kernelspec": {
   "display_name": "Python 3",
   "language": "python",
   "name": "python3"
  },
  "language_info": {
   "codemirror_mode": {
    "name": "ipython",
    "version": 3
   },
   "file_extension": ".py",
   "mimetype": "text/x-python",
   "name": "python",
   "nbconvert_exporter": "python",
   "pygments_lexer": "ipython3",
   "version": "3.6.4"
  },
  "toc": {
   "base_numbering": 1,
   "nav_menu": {},
   "number_sections": true,
   "sideBar": true,
   "skip_h1_title": false,
   "title_cell": "Table of Contents",
   "title_sidebar": "Contents",
   "toc_cell": false,
   "toc_position": {},
   "toc_section_display": true,
   "toc_window_display": false
  }
 },
 "nbformat": 4,
 "nbformat_minor": 2
}
